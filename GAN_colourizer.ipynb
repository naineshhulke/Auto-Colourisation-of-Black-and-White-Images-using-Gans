{
  "nbformat": 4,
  "nbformat_minor": 0,
  "metadata": {
    "colab": {
      "name": "GAN_colourizer.ipynb",
      "version": "0.3.2",
      "provenance": [],
      "collapsed_sections": [
        "xBZnI86XVc1N"
      ],
      "toc_visible": true
    },
    "kernelspec": {
      "name": "python3",
      "display_name": "Python 3"
    },
    "accelerator": "GPU"
  },
  "cells": [
    {
      "cell_type": "markdown",
      "metadata": {
        "id": "DfbgvYcB3ym9",
        "colab_type": "text"
      },
      "source": [
        "# Downloading Colournet dataset"
      ]
    },
    {
      "cell_type": "code",
      "metadata": {
        "id": "bJqrEY6A3jI4",
        "colab_type": "code",
        "outputId": "be65c343-7194-4cff-e046-052b7caaf40d",
        "colab": {
          "base_uri": "https://localhost:8080/",
          "height": 122
        }
      },
      "source": [
        "from google.colab import drive\n",
        "drive.mount('/content/gdrive')"
      ],
      "execution_count": 0,
      "outputs": [
        {
          "output_type": "stream",
          "text": [
            "Go to this URL in a browser: https://accounts.google.com/o/oauth2/auth?client_id=947318989803-6bn6qk8qdgf4n4g3pfee6491hc0brc4i.apps.googleusercontent.com&redirect_uri=urn%3Aietf%3Awg%3Aoauth%3A2.0%3Aoob&scope=email%20https%3A%2F%2Fwww.googleapis.com%2Fauth%2Fdocs.test%20https%3A%2F%2Fwww.googleapis.com%2Fauth%2Fdrive%20https%3A%2F%2Fwww.googleapis.com%2Fauth%2Fdrive.photos.readonly%20https%3A%2F%2Fwww.googleapis.com%2Fauth%2Fpeopleapi.readonly&response_type=code\n",
            "\n",
            "Enter your authorization code:\n",
            "··········\n",
            "Mounted at /content/gdrive\n"
          ],
          "name": "stdout"
        }
      ]
    },
    {
      "cell_type": "code",
      "metadata": {
        "id": "kE2rbdjC4FxS",
        "colab_type": "code",
        "outputId": "18184a96-cc92-454f-848f-d637a90d2608",
        "colab": {
          "base_uri": "https://localhost:8080/",
          "height": 34
        }
      },
      "source": [
        "cp forest.zip gdrive/'My Drive'/Data/ "
      ],
      "execution_count": 0,
      "outputs": [
        {
          "output_type": "stream",
          "text": [
            "cp: cannot stat 'forest.zip': No such file or directory\n"
          ],
          "name": "stdout"
        }
      ]
    },
    {
      "cell_type": "code",
      "metadata": {
        "id": "OeHk5cQzHdgJ",
        "colab_type": "code",
        "outputId": "71eaf97b-5620-4a65-96ed-b71f94d4e62f",
        "colab": {
          "base_uri": "https://localhost:8080/",
          "height": 204
        }
      },
      "source": [
        "!wget http://cvcl.mit.edu/scenedatabase/forest.zip"
      ],
      "execution_count": 0,
      "outputs": [
        {
          "output_type": "stream",
          "text": [
            "--2019-08-15 13:53:42--  http://cvcl.mit.edu/scenedatabase/forest.zip\n",
            "Resolving cvcl.mit.edu (cvcl.mit.edu)... 18.18.93.60\n",
            "Connecting to cvcl.mit.edu (cvcl.mit.edu)|18.18.93.60|:80... connected.\n",
            "HTTP request sent, awaiting response... 200 OK\n",
            "Length: 23780317 (23M) [application/zip]\n",
            "Saving to: ‘forest.zip’\n",
            "\n",
            "forest.zip          100%[===================>]  22.68M   752KB/s    in 31s     \n",
            "\n",
            "2019-08-15 13:54:15 (738 KB/s) - ‘forest.zip’ saved [23780317/23780317]\n",
            "\n"
          ],
          "name": "stdout"
        }
      ]
    },
    {
      "cell_type": "code",
      "metadata": {
        "id": "5n4aQu8_4KCO",
        "colab_type": "code",
        "outputId": "e9318075-8095-4538-e0b0-7fc03d9f72f8",
        "colab": {
          "base_uri": "https://localhost:8080/",
          "height": 340
        }
      },
      "source": [
        "!7z x *.zip -o*"
      ],
      "execution_count": 0,
      "outputs": [
        {
          "output_type": "stream",
          "text": [
            "\n",
            "7-Zip [64] 16.02 : Copyright (c) 1999-2016 Igor Pavlov : 2016-05-21\n",
            "p7zip Version 16.02 (locale=en_US.UTF-8,Utf16=on,HugeFiles=on,64 bits,2 CPUs Intel(R) Xeon(R) CPU @ 2.30GHz (306F0),ASM,AES-NI)\n",
            "\n",
            "Scanning the drive for archives:\n",
            "  0M Scan\b\b\b\b\b\b\b\b\b         \b\b\b\b\b\b\b\b\b1 file, 23780317 bytes (23 MiB)\n",
            "\n",
            "Extracting archive: forest.zip\n",
            "--\n",
            "Path = forest.zip\n",
            "Type = zip\n",
            "Physical Size = 23780317\n",
            "\n",
            "  0%\b\b\b\b    \b\b\b\b 57% 236 - forest/natu158.jpg\b\b\b\b\b\b\b\b\b\b\b\b\b\b\b\b\b\b\b\b\b\b\b\b\b\b\b\b\b                             \b\b\b\b\b\b\b\b\b\b\b\b\b\b\b\b\b\b\b\b\b\b\b\b\b\b\b\b\bEverything is Ok\n",
            "\n",
            "Folders: 1\n",
            "Files: 329\n",
            "Size:       24396250\n",
            "Compressed: 23780317\n"
          ],
          "name": "stdout"
        }
      ]
    },
    {
      "cell_type": "markdown",
      "metadata": {
        "id": "YnDz1Ofi4cXD",
        "colab_type": "text"
      },
      "source": [
        "# Preparing Libraries"
      ]
    },
    {
      "cell_type": "code",
      "metadata": {
        "id": "6c94gYF44ZEp",
        "colab_type": "code",
        "outputId": "6f14db27-bdc9-417e-8587-ca3c01a73be7",
        "colab": {
          "base_uri": "https://localhost:8080/",
          "height": 34
        }
      },
      "source": [
        "import pandas as pd\n",
        "import matplotlib.pyplot as plt\n",
        "import numpy as np\n",
        "import random\n",
        "from sklearn.model_selection import train_test_split\n",
        "import warnings\n",
        "warnings.filterwarnings('ignore')\n",
        "%matplotlib inline\n",
        "import cv2\n",
        "\n",
        "from keras.preprocessing import image\n",
        "from keras.preprocessing.image import ImageDataGenerator, array_to_img, img_to_array, load_img\n",
        "import tensorflow as tf\n",
        "import keras\n",
        "from keras.callbacks import EarlyStopping\n",
        "from keras.layers import *\n",
        "from keras.models import Model, Sequential, load_model\n",
        "from keras.regularizers import *\n",
        "from keras.activations import *\n",
        "from keras.optimizers import Adam\n",
        "from keras.utils import Sequence\n",
        "import math\n",
        "from PIL import Image\n",
        "from scipy import ndimage\n",
        "import skimage.io as io\n",
        "from skimage.color import rgb2lab, lab2rgb, rgb2gray, gray2rgb\n",
        "from skimage.transform import rescale, resize\n",
        "import os\n",
        "\n",
        "from keras.applications.inception_resnet_v2 import InceptionResNetV2\n",
        "from keras.applications.inception_resnet_v2 import preprocess_input"
      ],
      "execution_count": 0,
      "outputs": [
        {
          "output_type": "stream",
          "text": [
            "Using TensorFlow backend.\n"
          ],
          "name": "stderr"
        }
      ]
    },
    {
      "cell_type": "markdown",
      "metadata": {
        "id": "t1yPSYs84jRn",
        "colab_type": "text"
      },
      "source": [
        "# Custom Functions"
      ]
    },
    {
      "cell_type": "code",
      "metadata": {
        "id": "xaRtlCzt4irq",
        "colab_type": "code",
        "colab": {}
      },
      "source": [
        "def show(img): \n",
        "  plt.imshow(img, cmap = 'gray')\n",
        "  \n",
        "def show_predicted(l, ab):\n",
        "  img = np.concatenate((l, ab), axis = 2)\n",
        "  plt.imshow(lab2rgb(img))\n",
        "  plt.pause(0.001)"
      ],
      "execution_count": 0,
      "outputs": []
    },
    {
      "cell_type": "markdown",
      "metadata": {
        "id": "B_IyaluT4ntd",
        "colab_type": "text"
      },
      "source": [
        "# Data Loading"
      ]
    },
    {
      "cell_type": "code",
      "metadata": {
        "id": "Vrh-DIaC1wN1",
        "colab_type": "code",
        "colab": {}
      },
      "source": [
        "DS_PATH1 = '/content/forest/forest/' # ADD path/to/dataset\n",
        "# Get images\n",
        "train_data = []\n",
        "for filename in os.listdir(DS_PATH1):\n",
        "    if os.path.isfile(os.path.join(DS_PATH1, filename)):\n",
        "        train_data.append(os.path.join(DS_PATH1, filename))"
      ],
      "execution_count": 0,
      "outputs": []
    },
    {
      "cell_type": "code",
      "metadata": {
        "id": "JfF9gnBB44_s",
        "colab_type": "code",
        "colab": {}
      },
      "source": [
        "n = len(train_data)\n",
        "X_train_main = np.random.choice(train_data, int(n*0.9))\n",
        "X_val_main = np.array([x for x in train_data if x not in X_train_main])"
      ],
      "execution_count": 0,
      "outputs": []
    },
    {
      "cell_type": "code",
      "metadata": {
        "id": "8Lnv1hSo2M56",
        "colab_type": "code",
        "outputId": "f4d57c20-75bb-4cea-decd-041c54eebed9",
        "colab": {
          "base_uri": "https://localhost:8080/",
          "height": 34
        }
      },
      "source": [
        "print(n)"
      ],
      "execution_count": 0,
      "outputs": [
        {
          "output_type": "stream",
          "text": [
            "329\n"
          ],
          "name": "stdout"
        }
      ]
    },
    {
      "cell_type": "markdown",
      "metadata": {
        "id": "a8Mz-sE08nhc",
        "colab_type": "text"
      },
      "source": [
        "# Model"
      ]
    },
    {
      "cell_type": "code",
      "metadata": {
        "id": "jm3JWmFv4_eK",
        "colab_type": "code",
        "colab": {}
      },
      "source": [
        "def build_generator():\n",
        "        \"\"\"\n",
        "        Returns generator as Keras model.\n",
        "        \"\"\"\n",
        "        g_input = Input(shape=(256, 256, 1))\n",
        "        #128 x 128\n",
        "        conv1 = Conv2D(64, (3, 3), padding='same', strides=2)(g_input)\n",
        "        conv1 = BatchNormalization()(conv1)\n",
        "        conv1 = Activation('relu')(conv1)\n",
        "\n",
        "        conv2 = Conv2D(128, (3, 3), padding='same', strides=1)(conv1)\n",
        "        conv2 = BatchNormalization()(conv2)\n",
        "        conv2 = Activation('relu')(conv2)\n",
        "\n",
        "        #64 x 64\n",
        "        conv3 = Conv2D(128, (3, 3), padding='same', strides=2)(conv2)\n",
        "        conv3 = BatchNormalization()(conv3)\n",
        "        conv3 = Activation('relu')(conv3)\n",
        "\n",
        "        conv4 = Conv2D(256, (3, 3), padding='same', strides=1)(conv3)\n",
        "        conv4 = BatchNormalization()(conv4)\n",
        "        conv4 = Activation('relu')(conv4)\n",
        "\n",
        "        #32 x 32\n",
        "        conv5 = Conv2D(512, (3, 3), padding='same', strides=2)(conv4)\n",
        "        conv5 = BatchNormalization()(conv5)\n",
        "        conv5 = Activation('relu')(conv5)\n",
        "\n",
        "        #64 x 64\n",
        "        conv6 = UpSampling2D(size=(2, 2))(conv5)\n",
        "        conv6 = Conv2D(256, (3, 3), padding='same')(conv6)\n",
        "        conv6 = BatchNormalization()(conv6)\n",
        "        conv6 = Activation('relu')(conv6)\n",
        "        conv6 = Concatenate(axis=-1)([conv6,conv4])\n",
        "\n",
        "        conv7 = Conv2D(256, (3, 3), padding='same')(conv6)\n",
        "        conv7 = BatchNormalization()(conv7)\n",
        "        conv7 = Activation('relu')(conv7)\n",
        "\n",
        "        #128 x 128\n",
        "        up2 = UpSampling2D(size=(2, 2))(conv7)\n",
        "        conv8 = Conv2D(128, (3,3), padding='same')(up2)\n",
        "        conv8 = BatchNormalization()(conv8)\n",
        "        conv8 = Activation('relu')(conv8)\n",
        "        conv8 = Concatenate(axis=-1)([conv8,conv2])\n",
        "\n",
        "        conv9 = Conv2D(128, (3, 3), padding='same')(conv8)\n",
        "        conv9 = BatchNormalization()(conv9)\n",
        "        conv9 = Activation('relu')(conv9)\n",
        "\n",
        "        up3 = UpSampling2D(size=(2, 2))(conv9)\n",
        "        conv10 = Conv2D(64, (3,3), padding='same')(up3)\n",
        "        conv10 = BatchNormalization()(conv10)\n",
        "        conv10 = Activation('relu')(conv10)\n",
        "\n",
        "        conv11 = Conv2D(2, (3, 3), padding='same')(conv10)\n",
        "        conv11 = Activation('tanh')(conv11)\n",
        "\n",
        "        model = Model(inputs=g_input,outputs=conv11)\n",
        "        return model"
      ],
      "execution_count": 0,
      "outputs": []
    },
    {
      "cell_type": "code",
      "metadata": {
        "id": "2gNQe-mD1rxw",
        "colab_type": "code",
        "colab": {}
      },
      "source": [
        "def build_discriminator():\n",
        "        \"\"\"\n",
        "        Returns discriminator as Keras model.\n",
        "        \"\"\"\n",
        "        model = Sequential()\n",
        "        model.add(Conv2D(32, (3, 3), padding='same', input_shape=(256,256,2), strides=2))\n",
        "        model.add(LeakyReLU(.2))\n",
        "\n",
        "        model.add(AveragePooling2D(pool_size=(2, 2)))\n",
        "        model.add(Conv2D(64, (3, 3), padding='same',strides=1))\n",
        "        model.add(LeakyReLU(.2))\n",
        "        model.add(Dropout(.25))\n",
        "\n",
        "        model.add(AveragePooling2D(pool_size=(2, 2)))\n",
        "        model.add(Conv2D(128, (3, 3), padding='same',strides=1))\n",
        "        model.add(LeakyReLU(.2))\n",
        "        model.add(Dropout(.25))\n",
        "\n",
        "        model.add(AveragePooling2D(pool_size=(2, 2)))\n",
        "        model.add(Conv2D(256, (3, 3), padding='same',strides=2))\n",
        "        model.add(LeakyReLU(.2))\n",
        "        model.add(Dropout(.25))\n",
        "\n",
        "        model.add(Flatten())\n",
        "        model.add(Dense(1))\n",
        "        model.add(Activation('sigmoid'))\n",
        "\n",
        "        return model\n"
      ],
      "execution_count": 0,
      "outputs": []
    },
    {
      "cell_type": "code",
      "metadata": {
        "id": "P7Qf64UHODMB",
        "colab_type": "code",
        "colab": {}
      },
      "source": [
        "import keras.backend as K\n",
        "\n",
        "def cus_acc(y_true, y_pred):\n",
        "  \n",
        "  x = K.cast(K.not_equal(y_pred,0),tf.float32)\n",
        "  y = K.equal(x, y_true)\n",
        "  return K.mean(y)"
      ],
      "execution_count": 0,
      "outputs": []
    },
    {
      "cell_type": "markdown",
      "metadata": {
        "id": "mxNktniX8g0_",
        "colab_type": "text"
      },
      "source": [
        "## Generator"
      ]
    },
    {
      "cell_type": "code",
      "metadata": {
        "id": "PRHIV0h35cFM",
        "colab_type": "code",
        "outputId": "c8047ba8-fd14-493d-ee0c-f87e0a7b196e",
        "colab": {
          "base_uri": "https://localhost:8080/",
          "height": 1000
        }
      },
      "source": [
        "generator = build_generator()\n",
        "generator.compile(loss='mse', optimizer=Adam(lr=.001))\n",
        "generator.summary()"
      ],
      "execution_count": 0,
      "outputs": [
        {
          "output_type": "stream",
          "text": [
            "__________________________________________________________________________________________________\n",
            "Layer (type)                    Output Shape         Param #     Connected to                     \n",
            "==================================================================================================\n",
            "input_10 (InputLayer)           (None, 256, 256, 1)  0                                            \n",
            "__________________________________________________________________________________________________\n",
            "conv2d_61 (Conv2D)              (None, 128, 128, 64) 640         input_10[0][0]                   \n",
            "__________________________________________________________________________________________________\n",
            "batch_normalization_41 (BatchNo (None, 128, 128, 64) 256         conv2d_61[0][0]                  \n",
            "__________________________________________________________________________________________________\n",
            "activation_49 (Activation)      (None, 128, 128, 64) 0           batch_normalization_41[0][0]     \n",
            "__________________________________________________________________________________________________\n",
            "conv2d_62 (Conv2D)              (None, 128, 128, 128 73856       activation_49[0][0]              \n",
            "__________________________________________________________________________________________________\n",
            "batch_normalization_42 (BatchNo (None, 128, 128, 128 512         conv2d_62[0][0]                  \n",
            "__________________________________________________________________________________________________\n",
            "activation_50 (Activation)      (None, 128, 128, 128 0           batch_normalization_42[0][0]     \n",
            "__________________________________________________________________________________________________\n",
            "conv2d_63 (Conv2D)              (None, 64, 64, 128)  147584      activation_50[0][0]              \n",
            "__________________________________________________________________________________________________\n",
            "batch_normalization_43 (BatchNo (None, 64, 64, 128)  512         conv2d_63[0][0]                  \n",
            "__________________________________________________________________________________________________\n",
            "activation_51 (Activation)      (None, 64, 64, 128)  0           batch_normalization_43[0][0]     \n",
            "__________________________________________________________________________________________________\n",
            "conv2d_64 (Conv2D)              (None, 64, 64, 256)  295168      activation_51[0][0]              \n",
            "__________________________________________________________________________________________________\n",
            "batch_normalization_44 (BatchNo (None, 64, 64, 256)  1024        conv2d_64[0][0]                  \n",
            "__________________________________________________________________________________________________\n",
            "activation_52 (Activation)      (None, 64, 64, 256)  0           batch_normalization_44[0][0]     \n",
            "__________________________________________________________________________________________________\n",
            "conv2d_65 (Conv2D)              (None, 32, 32, 512)  1180160     activation_52[0][0]              \n",
            "__________________________________________________________________________________________________\n",
            "batch_normalization_45 (BatchNo (None, 32, 32, 512)  2048        conv2d_65[0][0]                  \n",
            "__________________________________________________________________________________________________\n",
            "activation_53 (Activation)      (None, 32, 32, 512)  0           batch_normalization_45[0][0]     \n",
            "__________________________________________________________________________________________________\n",
            "up_sampling2d_13 (UpSampling2D) (None, 64, 64, 512)  0           activation_53[0][0]              \n",
            "__________________________________________________________________________________________________\n",
            "conv2d_66 (Conv2D)              (None, 64, 64, 256)  1179904     up_sampling2d_13[0][0]           \n",
            "__________________________________________________________________________________________________\n",
            "batch_normalization_46 (BatchNo (None, 64, 64, 256)  1024        conv2d_66[0][0]                  \n",
            "__________________________________________________________________________________________________\n",
            "activation_54 (Activation)      (None, 64, 64, 256)  0           batch_normalization_46[0][0]     \n",
            "__________________________________________________________________________________________________\n",
            "concatenate_9 (Concatenate)     (None, 64, 64, 512)  0           activation_54[0][0]              \n",
            "                                                                 activation_52[0][0]              \n",
            "__________________________________________________________________________________________________\n",
            "conv2d_67 (Conv2D)              (None, 64, 64, 256)  1179904     concatenate_9[0][0]              \n",
            "__________________________________________________________________________________________________\n",
            "batch_normalization_47 (BatchNo (None, 64, 64, 256)  1024        conv2d_67[0][0]                  \n",
            "__________________________________________________________________________________________________\n",
            "activation_55 (Activation)      (None, 64, 64, 256)  0           batch_normalization_47[0][0]     \n",
            "__________________________________________________________________________________________________\n",
            "up_sampling2d_14 (UpSampling2D) (None, 128, 128, 256 0           activation_55[0][0]              \n",
            "__________________________________________________________________________________________________\n",
            "conv2d_68 (Conv2D)              (None, 128, 128, 128 295040      up_sampling2d_14[0][0]           \n",
            "__________________________________________________________________________________________________\n",
            "batch_normalization_48 (BatchNo (None, 128, 128, 128 512         conv2d_68[0][0]                  \n",
            "__________________________________________________________________________________________________\n",
            "activation_56 (Activation)      (None, 128, 128, 128 0           batch_normalization_48[0][0]     \n",
            "__________________________________________________________________________________________________\n",
            "concatenate_10 (Concatenate)    (None, 128, 128, 256 0           activation_56[0][0]              \n",
            "                                                                 activation_50[0][0]              \n",
            "__________________________________________________________________________________________________\n",
            "conv2d_69 (Conv2D)              (None, 128, 128, 128 295040      concatenate_10[0][0]             \n",
            "__________________________________________________________________________________________________\n",
            "batch_normalization_49 (BatchNo (None, 128, 128, 128 512         conv2d_69[0][0]                  \n",
            "__________________________________________________________________________________________________\n",
            "activation_57 (Activation)      (None, 128, 128, 128 0           batch_normalization_49[0][0]     \n",
            "__________________________________________________________________________________________________\n",
            "up_sampling2d_15 (UpSampling2D) (None, 256, 256, 128 0           activation_57[0][0]              \n",
            "__________________________________________________________________________________________________\n",
            "conv2d_70 (Conv2D)              (None, 256, 256, 64) 73792       up_sampling2d_15[0][0]           \n",
            "__________________________________________________________________________________________________\n",
            "batch_normalization_50 (BatchNo (None, 256, 256, 64) 256         conv2d_70[0][0]                  \n",
            "__________________________________________________________________________________________________\n",
            "activation_58 (Activation)      (None, 256, 256, 64) 0           batch_normalization_50[0][0]     \n",
            "__________________________________________________________________________________________________\n",
            "conv2d_71 (Conv2D)              (None, 256, 256, 2)  1154        activation_58[0][0]              \n",
            "__________________________________________________________________________________________________\n",
            "activation_59 (Activation)      (None, 256, 256, 2)  0           conv2d_71[0][0]                  \n",
            "==================================================================================================\n",
            "Total params: 4,729,922\n",
            "Trainable params: 4,726,082\n",
            "Non-trainable params: 3,840\n",
            "__________________________________________________________________________________________________\n"
          ],
          "name": "stdout"
        }
      ]
    },
    {
      "cell_type": "markdown",
      "metadata": {
        "id": "4u5CyT1y_5Yz",
        "colab_type": "text"
      },
      "source": [
        "## Discriminator"
      ]
    },
    {
      "cell_type": "code",
      "metadata": {
        "id": "eWiecRt42eXk",
        "colab_type": "code",
        "outputId": "2727ce68-debb-40d0-dc65-eaf816c63817",
        "colab": {
          "base_uri": "https://localhost:8080/",
          "height": 714
        }
      },
      "source": [
        "discriminator = build_discriminator()\n",
        "discriminator.compile(loss='binary_crossentropy',\n",
        "                      optimizer=Adam(lr=.0001),\n",
        "                      metrics=['accuracy'])\n",
        "discriminator.summary()"
      ],
      "execution_count": 0,
      "outputs": [
        {
          "output_type": "stream",
          "text": [
            "_________________________________________________________________\n",
            "Layer (type)                 Output Shape              Param #   \n",
            "=================================================================\n",
            "conv2d_72 (Conv2D)           (None, 128, 128, 32)      608       \n",
            "_________________________________________________________________\n",
            "leaky_re_lu_17 (LeakyReLU)   (None, 128, 128, 32)      0         \n",
            "_________________________________________________________________\n",
            "average_pooling2d_13 (Averag (None, 64, 64, 32)        0         \n",
            "_________________________________________________________________\n",
            "conv2d_73 (Conv2D)           (None, 64, 64, 64)        18496     \n",
            "_________________________________________________________________\n",
            "leaky_re_lu_18 (LeakyReLU)   (None, 64, 64, 64)        0         \n",
            "_________________________________________________________________\n",
            "dropout_13 (Dropout)         (None, 64, 64, 64)        0         \n",
            "_________________________________________________________________\n",
            "average_pooling2d_14 (Averag (None, 32, 32, 64)        0         \n",
            "_________________________________________________________________\n",
            "conv2d_74 (Conv2D)           (None, 32, 32, 128)       73856     \n",
            "_________________________________________________________________\n",
            "leaky_re_lu_19 (LeakyReLU)   (None, 32, 32, 128)       0         \n",
            "_________________________________________________________________\n",
            "dropout_14 (Dropout)         (None, 32, 32, 128)       0         \n",
            "_________________________________________________________________\n",
            "average_pooling2d_15 (Averag (None, 16, 16, 128)       0         \n",
            "_________________________________________________________________\n",
            "conv2d_75 (Conv2D)           (None, 8, 8, 256)         295168    \n",
            "_________________________________________________________________\n",
            "leaky_re_lu_20 (LeakyReLU)   (None, 8, 8, 256)         0         \n",
            "_________________________________________________________________\n",
            "dropout_15 (Dropout)         (None, 8, 8, 256)         0         \n",
            "_________________________________________________________________\n",
            "flatten_5 (Flatten)          (None, 16384)             0         \n",
            "_________________________________________________________________\n",
            "dense_5 (Dense)              (None, 1)                 16385     \n",
            "_________________________________________________________________\n",
            "activation_60 (Activation)   (None, 1)                 0         \n",
            "=================================================================\n",
            "Total params: 404,513\n",
            "Trainable params: 404,513\n",
            "Non-trainable params: 0\n",
            "_________________________________________________________________\n"
          ],
          "name": "stdout"
        }
      ]
    },
    {
      "cell_type": "markdown",
      "metadata": {
        "id": "-SKJhQmj_94Y",
        "colab_type": "text"
      },
      "source": [
        "## GAN"
      ]
    },
    {
      "cell_type": "code",
      "metadata": {
        "id": "R1MGb4O96VOx",
        "colab_type": "code",
        "colab": {}
      },
      "source": [
        "gan_input = Input(shape=(256,256,1))\n",
        "img_color = generator(gan_input)\n",
        "discriminator.trainable = False\n",
        "real_or_fake = discriminator(img_color)\n",
        "gan = Model(gan_input,real_or_fake)\n",
        "gan.compile(loss='binary_crossentropy', optimizer=Adam(lr=.001,decay=1e-5), metrics = ['accuracy'])"
      ],
      "execution_count": 0,
      "outputs": []
    },
    {
      "cell_type": "code",
      "metadata": {
        "id": "wl8dEiw38a3B",
        "colab_type": "code",
        "outputId": "ce502fa5-f0b6-4698-b4f9-499a30439d24",
        "colab": {
          "base_uri": "https://localhost:8080/",
          "height": 238
        }
      },
      "source": [
        "gan.summary()"
      ],
      "execution_count": 0,
      "outputs": [
        {
          "output_type": "stream",
          "text": [
            "_________________________________________________________________\n",
            "Layer (type)                 Output Shape              Param #   \n",
            "=================================================================\n",
            "input_11 (InputLayer)        (None, 256, 256, 1)       0         \n",
            "_________________________________________________________________\n",
            "model_10 (Model)             (None, 256, 256, 2)       4729922   \n",
            "_________________________________________________________________\n",
            "sequential_5 (Sequential)    (None, 1)                 404513    \n",
            "=================================================================\n",
            "Total params: 5,134,435\n",
            "Trainable params: 4,726,082\n",
            "Non-trainable params: 408,353\n",
            "_________________________________________________________________\n"
          ],
          "name": "stdout"
        }
      ]
    },
    {
      "cell_type": "markdown",
      "metadata": {
        "id": "DxVXPDug4z_g",
        "colab_type": "text"
      },
      "source": [
        "# Data Generator"
      ]
    },
    {
      "cell_type": "code",
      "metadata": {
        "id": "ijgU8NS6-npJ",
        "colab_type": "code",
        "colab": {}
      },
      "source": [
        "class dis_gen(Sequence):\n",
        "  \n",
        "  def __init__(self, X, batch_size = 32):\n",
        "    self.img_loc = X\n",
        "    self.batch_size = batch_size\n",
        "    self.size = len(self.img_loc)\n",
        "    \n",
        "  def __getitem__(self, idx):\n",
        "    start = idx*self.batch_size\n",
        "    end = min((idx+1)*self.batch_size, self.size)\n",
        "    batch = np.empty(((end-start),256,256,3))\n",
        "    j=0\n",
        "    '''\n",
        "    exception handling while reading image\n",
        "    '''\n",
        "    for i in self.img_loc[start:end]:\n",
        "      try:\n",
        "        batch[j,...] = cv2.imread(i)[...,::-1] # RBG image \n",
        "      except:\n",
        "        pass\n",
        "      j+=1\n",
        "      \n",
        "    batch /= 255.0\n",
        "    gray_batch = gray2rgb(rgb2gray(batch))\n",
        "    lab_batch = rgb2lab(batch)\n",
        "    X_train_L = lab_batch[...,0]\n",
        "    X_train_L = X_train_L[...,None]\n",
        "    X_train_AB = lab_batch[:,:,:,1:]/128.0\n",
        "    generated_images = generator.predict(X_train_L)\n",
        "    X_train = np.concatenate((X_train_AB, generated_images))\n",
        "    n = len(X_train_L)\n",
        "    y_train = np.array([[1]] * n + [[0]] * n)\n",
        "    rand_arr = np.arange(len(X_train))\n",
        "    np.random.shuffle(rand_arr)\n",
        "    X_train = X_train[rand_arr]\n",
        "    y_train = y_train[rand_arr]\n",
        "    return (X_train, y_train)\n",
        "      \n",
        "  def __len__(self):\n",
        "    return math.ceil(self.size / self.batch_size)"
      ],
      "execution_count": 0,
      "outputs": []
    },
    {
      "cell_type": "code",
      "metadata": {
        "id": "k7WwY5gkS5x9",
        "colab_type": "code",
        "colab": {}
      },
      "source": [
        "class gan_gen(Sequence):\n",
        "  def __init__(self, X, batch_size = 16):\n",
        "    self.img_loc = X\n",
        "    self.batch_size = batch_size\n",
        "    self.size = len(self.img_loc)\n",
        "  \n",
        "  def __getitem__(self, idx):\n",
        "    start = idx*self.batch_size\n",
        "    end = min((idx+1)*self.batch_size, self.size)\n",
        "    batch = np.empty(((end-start),256,256,3))\n",
        "    j=0\n",
        "    '''\n",
        "    exception handling while reading image\n",
        "    '''\n",
        "    for i in self.img_loc[start:end]:\n",
        "      try:\n",
        "        batch[j,...] = cv2.imread(i)[...,::-1] # RBG image \n",
        "      except:\n",
        "        pass\n",
        "      j+=1\n",
        "    batch /= 255.0\n",
        "    gray_batch = gray2rgb(rgb2gray(batch))\n",
        "    lab_batch = rgb2lab(batch)\n",
        "    X_train_L = lab_batch[...,0]\n",
        "    X_train_L = X_train_L[...,None]\n",
        "    n = len(X_train_L)\n",
        "    y_train = np.ones([n,1])\n",
        "    return (X_train_L, y_train)\n",
        "  \n",
        "  def __len__(self):\n",
        "    return math.ceil(self.size / self.batch_size)"
      ],
      "execution_count": 0,
      "outputs": []
    },
    {
      "cell_type": "markdown",
      "metadata": {
        "id": "oon7eSgv8nYx",
        "colab_type": "text"
      },
      "source": [
        "# Train"
      ]
    },
    {
      "cell_type": "code",
      "metadata": {
        "id": "dy8q3pts8omC",
        "colab_type": "code",
        "colab": {}
      },
      "source": [
        "batch_size = 32\n",
        "def train( X_train,  X_test, epochs):\n",
        "  acc_dis = 0\n",
        "  n = len(X_train)\n",
        "  for e in range(epochs):\n",
        "    print('.......Evaluating discriminator.......')\n",
        "    disgen = dis_gen(X_train, batch_size)\n",
        "    valgen = dis_gen(X_test, batch_size)\n",
        "    metric = discriminator.evaluate_generator(valgen)\n",
        "    acc_dis = metric[1]\n",
        "    print('Accuracy : %f' %(metric[1]))\n",
        "    print('...........training discriminator.........')\n",
        "    if(e%3==2):\n",
        "       noise = np.random.rand(n,256,256,2) * 2 -1\n",
        "       discriminator.fit(noise, np.zeros([n,1]), 32, epochs=1)\n",
        "    while(acc_dis <= 0.89):\n",
        "      discriminator.fit_generator(disgen, epochs=1)\n",
        "      metric = discriminator.evaluate_generator(valgen)\n",
        "      acc_dis = metric[1]\n",
        "      print('Accuracy : %f' %(metric[1]))\n",
        "    print('............training gan............')\n",
        "    #while(acc_dis>0.81):\n",
        "    gan.fit_generator(gan_gen(X_train), epochs=1)\n",
        "    metric = discriminator.evaluate_generator(valgen)\n",
        "    test()\n",
        "    acc_dis = metric[1]\n",
        "    print(acc_dis)\n",
        "    #test()\n",
        "    #test()\n",
        "    print(e + 1,\"batches done\")"
      ],
      "execution_count": 0,
      "outputs": []
    },
    {
      "cell_type": "code",
      "metadata": {
        "id": "3HbUpXiOlMYt",
        "colab_type": "code",
        "colab": {}
      },
      "source": [
        "dis_gen(X_train_main).__getitem__(0)"
      ],
      "execution_count": 0,
      "outputs": []
    },
    {
      "cell_type": "code",
      "metadata": {
        "id": "Gp1h9qoMb21b",
        "colab_type": "code",
        "colab": {}
      },
      "source": [
        "train(X_train_main, X_val_main, 25)"
      ],
      "execution_count": 0,
      "outputs": []
    },
    {
      "cell_type": "markdown",
      "metadata": {
        "id": "xBZnI86XVc1N",
        "colab_type": "text"
      },
      "source": [
        "# Saving and loading weights"
      ]
    },
    {
      "cell_type": "code",
      "metadata": {
        "id": "tPmrDymwVk1a",
        "colab_type": "code",
        "outputId": "5c12e5e6-b158-4d53-bf36-fd018f0c88ea",
        "colab": {
          "base_uri": "https://localhost:8080/",
          "height": 34
        }
      },
      "source": [
        "cd ~/../content/gdrive/'My Drive'/Data/"
      ],
      "execution_count": 0,
      "outputs": [
        {
          "output_type": "stream",
          "text": [
            "/content/gdrive/My Drive/Data\n"
          ],
          "name": "stdout"
        }
      ]
    },
    {
      "cell_type": "code",
      "metadata": {
        "id": "irS-aSNXwx4p",
        "colab_type": "code",
        "colab": {}
      },
      "source": [
        "gan.save('gan.h5')"
      ],
      "execution_count": 0,
      "outputs": []
    },
    {
      "cell_type": "code",
      "metadata": {
        "id": "KwC4ug9eVuf0",
        "colab_type": "code",
        "colab": {}
      },
      "source": [
        "discriminator.save_weights('dis_weights1_1280.h5')"
      ],
      "execution_count": 0,
      "outputs": []
    },
    {
      "cell_type": "code",
      "metadata": {
        "id": "Yfmc0K9MV47h",
        "colab_type": "code",
        "colab": {}
      },
      "source": [
        "generator.save_weights('gen_weights1_1280.h5')"
      ],
      "execution_count": 0,
      "outputs": []
    },
    {
      "cell_type": "code",
      "metadata": {
        "id": "3zY7ETjHV-25",
        "colab_type": "code",
        "colab": {}
      },
      "source": [
        "gan.save_weights('gan_weights1_1280.h5')"
      ],
      "execution_count": 0,
      "outputs": []
    },
    {
      "cell_type": "code",
      "metadata": {
        "id": "yFnHtVHSWEeG",
        "colab_type": "code",
        "outputId": "6fae5ea1-7bde-4972-b13b-374ec5bf53d0",
        "colab": {
          "base_uri": "https://localhost:8080/",
          "height": 34
        }
      },
      "source": [
        "cd ~/../content/"
      ],
      "execution_count": 0,
      "outputs": [
        {
          "output_type": "stream",
          "text": [
            "/content\n"
          ],
          "name": "stdout"
        }
      ]
    },
    {
      "cell_type": "markdown",
      "metadata": {
        "id": "2aLP9LKpACzD",
        "colab_type": "text"
      },
      "source": [
        "# Colourization"
      ]
    },
    {
      "cell_type": "code",
      "metadata": {
        "id": "LEpZFLVzAEtm",
        "colab_type": "code",
        "colab": {}
      },
      "source": [
        "original = plt.imread(X_train_main[5])/255\n",
        "gray = gray2rgb(rgb2gray(original))"
      ],
      "execution_count": 0,
      "outputs": []
    },
    {
      "cell_type": "code",
      "metadata": {
        "id": "AmmsH1I6AI1M",
        "colab_type": "code",
        "colab": {}
      },
      "source": [
        "show(original)"
      ],
      "execution_count": 0,
      "outputs": []
    },
    {
      "cell_type": "code",
      "metadata": {
        "id": "ojys0xS0AQ2w",
        "colab_type": "code",
        "colab": {}
      },
      "source": [
        "lab = rgb2lab(gray)\n",
        "lab2 = rgb2lab(original)"
      ],
      "execution_count": 0,
      "outputs": []
    },
    {
      "cell_type": "code",
      "metadata": {
        "id": "oYUqB5YAAVxC",
        "colab_type": "code",
        "colab": {}
      },
      "source": [
        "predicted_ab = generator.predict((lab2[...,0]).reshape((1,256,256,1)))\n",
        "ab = predicted_ab.reshape(256,256,2)\n",
        "show_predicted((lab2[...,0]).reshape((256,256,1)),ab*128)"
      ],
      "execution_count": 0,
      "outputs": []
    },
    {
      "cell_type": "code",
      "metadata": {
        "id": "2KKmn1hzeEJu",
        "colab_type": "code",
        "colab": {}
      },
      "source": [
        "def test():\n",
        "  original = plt.imread(X_train_main[3])/255\n",
        "  gray = gray2rgb(rgb2gray(original))\n",
        "  lab = rgb2lab(gray)\n",
        "  lab2 = rgb2lab(original)\n",
        "  predicted_ab = generator.predict((lab2[...,0]).reshape((1,256,256,1)))\n",
        "  ab = predicted_ab.reshape(256,256,2)\n",
        "  show_predicted((lab2[...,0]).reshape((256,256,1)),ab*128)"
      ],
      "execution_count": 0,
      "outputs": []
    },
    {
      "cell_type": "code",
      "metadata": {
        "id": "Cxq5pyD19dLR",
        "colab_type": "code",
        "colab": {}
      },
      "source": [
        "test()"
      ],
      "execution_count": 0,
      "outputs": []
    }
  ]
}